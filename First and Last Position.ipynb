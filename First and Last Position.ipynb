{
 "cells": [
  {
   "cell_type": "markdown",
   "id": "e78990ab-a21d-4149-85d1-035a3a44e999",
   "metadata": {},
   "source": [
    "# Ques: 01 - Peak element in an mountain array.\n"
   ]
  },
  {
   "cell_type": "code",
   "execution_count": 1,
   "id": "6f8cfb94-631a-4f51-94a6-491136855b82",
   "metadata": {},
   "outputs": [
    {
     "name": "stdin",
     "output_type": "stream",
     "text": [
      "Enter the values in array seperated by space 3 7 5 1\n"
     ]
    },
    {
     "name": "stdout",
     "output_type": "stream",
     "text": [
      "Peak element is at index: 1\n"
     ]
    }
   ],
   "source": [
    "'''\n",
    "You are given an integer **mountain** array `arr` of length `n` where the values increase to a **peak element** and then decrease.\n",
    "\n",
    "Return the index of the peak element. **yaha index return karna hai na han index**\n",
    "\n",
    "Your task is to solve it in `O(log(n))` time complexity.\n",
    "\n",
    "**Example 1:**\n",
    "\n",
    "**Input:** arr = [0,1,0]\n",
    "\n",
    "**Output:** 1\n",
    "\n",
    "**Example 2:**\n",
    "\n",
    "**Input:** arr = [0,2,1,0]\n",
    "\n",
    "'''\n",
    "\n",
    "def Peak_Element(arr):\n",
    "    \n",
    "    start= 0\n",
    "    end = len(arr) - 1\n",
    "    \n",
    "    while start < end:\n",
    "        \n",
    "        mid = start + (end - start)//2   # calculate the mid\n",
    "        \n",
    "        if arr[mid] < arr[mid+1]:\n",
    "            start = mid + 1\n",
    "        else:\n",
    "            end = mid\n",
    "    return start\n",
    "\n",
    "\n",
    "# input handling\n",
    "\n",
    "arr_input = input(\"Enter the values in array seperated by space\")\n",
    "\n",
    "arr = list(map(int,arr_input.split()))\n",
    "\n",
    "size = len(arr)\n",
    "\n",
    "highest_element = Peak_Element(arr)\n",
    "print(f\"Peak element is at index: {highest_element}\")\n",
    "\n",
    "\n",
    "            \n",
    "        "
   ]
  },
  {
   "cell_type": "markdown",
   "id": "b6965d79-a861-46ff-9c79-917b981860a3",
   "metadata": {},
   "source": [
    "# Ques: 02 - Find Pivot Index."
   ]
  },
  {
   "cell_type": "code",
   "execution_count": 5,
   "id": "c49e8072-487e-4439-8628-1c1cd434a06f",
   "metadata": {},
   "outputs": [
    {
     "name": "stdin",
     "output_type": "stream",
     "text": [
      "Entert the values in array separated by space: 1 2 5 7 9\n"
     ]
    },
    {
     "name": "stdout",
     "output_type": "stream",
     "text": [
      "Pivot index of the array is: 4\n"
     ]
    }
   ],
   "source": [
    "def Pivot_Index(arr):\n",
    "    \n",
    "    start = 0\n",
    "    end = len(arr) - 1\n",
    "\n",
    "    while start < end:\n",
    "        mid = start + (end - start)//2\n",
    "        \n",
    "        if arr[mid] > arr[0]:\n",
    "            start = mid+1\n",
    "        else:\n",
    "            end = mid\n",
    "            \n",
    "    return start\n",
    "\n",
    "\n",
    "#input handling\n",
    "\n",
    "arr_input = input(\"Entert the values in array separated by space:\")\n",
    "\n",
    "arr = list(map(int,arr_input.split()))\n",
    "\n",
    "pivot_index = Pivot_Index(arr)\n",
    "\n",
    "print(f\"Pivot index of the array is: {pivot_index}\")"
   ]
  },
  {
   "cell_type": "code",
   "execution_count": null,
   "id": "24a0c6a0-f74c-4212-b186-4c7de7eec5c3",
   "metadata": {},
   "outputs": [],
   "source": []
  }
 ],
 "metadata": {
  "kernelspec": {
   "display_name": "Python 3 (ipykernel)",
   "language": "python",
   "name": "python3"
  },
  "language_info": {
   "codemirror_mode": {
    "name": "ipython",
    "version": 3
   },
   "file_extension": ".py",
   "mimetype": "text/x-python",
   "name": "python",
   "nbconvert_exporter": "python",
   "pygments_lexer": "ipython3",
   "version": "3.11.7"
  }
 },
 "nbformat": 4,
 "nbformat_minor": 5
}
