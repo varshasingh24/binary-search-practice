{
 "cells": [
  {
   "cell_type": "markdown",
   "id": "7f9cdbf9-bb34-4b5a-a3de-605733f18cfe",
   "metadata": {},
   "source": [
    "#  **First and Last Position of an Element In Sorted Array**"
   ]
  },
  {
   "cell_type": "code",
   "execution_count": 1,
   "id": "aa45f2fb-f73f-4548-8adf-68b7f82d10b7",
   "metadata": {},
   "outputs": [],
   "source": [
    "## **Problem statement**\n",
    "\n",
    " # You have been given a sorted array/list ***'arr'*** consisting of ***‘n’*** elements. You are also given an integer ***‘k’***.\n",
    "\n",
    "# Now, your task is to find the first and last occurrence of ‘k’ in 'arr'.\n",
    "\n",
    "# **Note :**\n",
    "# 1. If ‘k’ is not present in the array, then the first and the last occurrence will be -1.\n",
    "# 2. 'arr' may contain duplicate elements.\n"
   ]
  },
  {
   "cell_type": "code",
   "execution_count": 16,
   "id": "385f15b7-f620-440c-8761-d57f724fd995",
   "metadata": {},
   "outputs": [],
   "source": [
    "#**Example:**\n",
    "\n",
    "\n",
    "# Input: 'arr' = [0,1,1,5] , 'k' = 1 Output: 1 2\n",
    "\n",
    "# Explanation:  If 'arr' = [0, 1, 1, 5] and 'k' = 1, then the first and last occurrence of 1 will be 1(0 - indexed) and 2.'''\n",
    "\n"
   ]
  },
  {
   "cell_type": "code",
   "execution_count": 17,
   "id": "c4aef83c-3f2b-4b70-8f38-e6fe7d41f9b2",
   "metadata": {},
   "outputs": [
    {
     "name": "stdout",
     "output_type": "stream",
     "text": [
      "[1, 3]\n"
     ]
    }
   ],
   "source": [
    "def FirstAndLast(arr, n, k):\n",
    "    def FirstPosition(arr, k):\n",
    "        start = 0\n",
    "        end = n - 1\n",
    "        first = -1\n",
    "        while start <= end:\n",
    "            mid = (start + end) // 2\n",
    "            if arr[mid] == k:\n",
    "                first = mid\n",
    "                end = mid - 1  # search in the left half\n",
    "            elif arr[mid] < k:\n",
    "                start = mid + 1\n",
    "            else:\n",
    "                end = mid - 1\n",
    "        return first\n",
    "\n",
    "    def LastPosition(arr, k):\n",
    "        start = 0\n",
    "        end = n - 1\n",
    "        last = -1\n",
    "        while start <= end:\n",
    "            mid = (start + end) // 2\n",
    "            if arr[mid] == k:\n",
    "                last = mid\n",
    "                start = mid + 1  # search in the right half\n",
    "            elif arr[mid] < k:\n",
    "                start = mid + 1\n",
    "            else:\n",
    "                end = mid - 1\n",
    "        return last\n",
    "\n",
    "    first = FirstPosition(arr, k)\n",
    "    last = LastPosition(arr, k)\n",
    "    return [first, last]\n",
    "\n",
    "arr = [1, 2, 2, 2, 3, 4, 5]\n",
    "n = len(arr)\n",
    "k = 2\n",
    "print(FirstAndLast(arr, n, k))  \n",
    "\n",
    "\n",
    " \n",
    "        "
   ]
  },
  {
   "cell_type": "code",
   "execution_count": null,
   "id": "3edab974-5a49-4331-a208-c394c2a117fa",
   "metadata": {},
   "outputs": [],
   "source": []
  }
 ],
 "metadata": {
  "kernelspec": {
   "display_name": "Python 3 (ipykernel)",
   "language": "python",
   "name": "python3"
  },
  "language_info": {
   "codemirror_mode": {
    "name": "ipython",
    "version": 3
   },
   "file_extension": ".py",
   "mimetype": "text/x-python",
   "name": "python",
   "nbconvert_exporter": "python",
   "pygments_lexer": "ipython3",
   "version": "3.11.7"
  }
 },
 "nbformat": 4,
 "nbformat_minor": 5
}
