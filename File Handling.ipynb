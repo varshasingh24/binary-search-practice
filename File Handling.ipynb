{
 "cells": [
  {
   "cell_type": "markdown",
   "id": "cdfe5f8d-d8bb-4c3a-acc7-06576e2cc9b3",
   "metadata": {},
   "source": [
    "# Question 1: Create and Write to a File\n"
   ]
  },
  {
   "cell_type": "code",
   "execution_count": 16,
   "id": "3a520106-99a8-4232-91b1-a9d2e909e564",
   "metadata": {},
   "outputs": [
    {
     "name": "stdout",
     "output_type": "stream",
     "text": [
      "file is created successfully!\n",
      "Hello, World!\n",
      "This is my first file.\n",
      "Python file handling is fun!\n",
      "\n"
     ]
    }
   ],
   "source": [
    "'''\n",
    "Task: Write a function that creates a new text file and writes a few lines of text into it.\n",
    "\n",
    "\n",
    "def create_file(filename):\n",
    "    # Your code here to create a file and write to it\n",
    "\n",
    "Expected Output: A text file named example.txt containing lines like:\n",
    "Hello, World!\n",
    "This is my first file.\n",
    "Python file handling is fun!\n",
    "\n",
    "'''\n",
    "\n",
    "def create_new_file(my_file):        # function to create the file\n",
    "\n",
    "    with open(\"myfile.txt\",\"w\") as file:\n",
    "        file.write(\"Hello, World!\\n\")\n",
    "        file.write(\"This is my first file.\\n\")\n",
    "        file.write(\"Python file handling is fun!\\n\")\n",
    "        \n",
    "    print(\"file is created successfully!\")\n",
    "\n",
    "def read_file(my_file):          # function to read the file\n",
    "    with open(\"myfile.txt\",\"r\") as file:\n",
    "        content = file.read()\n",
    "        print(content)\n",
    "\n",
    "my_file = \"myfile.txt\"\n",
    "first_file = create_new_file(my_file)\n",
    "read = read_file(my_file)\n",
    "\n",
    "\n",
    "\n"
   ]
  },
  {
   "cell_type": "code",
   "execution_count": 18,
   "id": "9b748873-a14c-4294-9027-803c52d3dabc",
   "metadata": {},
   "outputs": [
    {
     "name": "stdout",
     "output_type": "stream",
     "text": [
      "Hello, World!\n",
      "This is my first file.\n",
      "Python file handling is fun!\n",
      "\n",
      " This line is added later.\n",
      "This line is added later.\n"
     ]
    }
   ],
   "source": [
    "# Append to a file\n",
    "def append_to_file(my_file):\n",
    "    with open(\"myfile.txt\",\"a\") as file:\n",
    "        file.write(\"\\nThis line is added later.\")\n",
    "\n",
    "append = append_to_file(my_file)\n",
    "read = read_file(my_file)\n",
    "\n",
    "         "
   ]
  },
  {
   "cell_type": "code",
   "execution_count": 34,
   "id": "4fa34c11-a3fb-4d36-9844-12faec1cb656",
   "metadata": {},
   "outputs": [
    {
     "name": "stdout",
     "output_type": "stream",
     "text": [
      "total numbers of lines are: 6\n"
     ]
    }
   ],
   "source": [
    "def count_lines(my_file):\n",
    "    with open(\"myfile.txt\",\"r\") as file:\n",
    "        contents = file.readlines()\n",
    "        print(f\"total numbers of lines are: {len(contents)}\")\n",
    "\n",
    "Total_lines = count_lines(my_file)"
   ]
  },
  {
   "cell_type": "code",
   "execution_count": 27,
   "id": "5e280ccc-5187-41ae-97fa-86bc962e1e0a",
   "metadata": {},
   "outputs": [
    {
     "name": "stdout",
     "output_type": "stream",
     "text": [
      "Hello, World!\n",
      "This is my first file.\n",
      "Python file handling is fun!\n",
      "\n",
      " This line is added later.\n",
      "This line is added later.\n",
      "Program executed successfully\n",
      "I am always okay!\n"
     ]
    }
   ],
   "source": [
    "try:\n",
    "    with open(\"myfile.txt\", \"r\") as file:\n",
    "        content = file.read()\n",
    "        print(content)\n",
    "except:\n",
    "    print(\"File is not find to whom you want to open\")\n",
    "else:\n",
    "    print(\"Program executed successfully\")\n",
    "finally:\n",
    "    print(\"I am always okay!\")"
   ]
  },
  {
   "cell_type": "code",
   "execution_count": 33,
   "id": "17dedd33-42b0-4bc3-8e84-5276ef5c16b2",
   "metadata": {},
   "outputs": [
    {
     "name": "stdout",
     "output_type": "stream",
     "text": [
      "True\n"
     ]
    }
   ],
   "source": [
    "def search_in_file(my_file,search_term):\n",
    "    \n",
    "    found = False\n",
    "\n",
    "    try:\n",
    "        with open(\"myfile.txt\", \"r\") as file:\n",
    "            for line in file:\n",
    "                if search_term in line:\n",
    "                    print(\"True\")\n",
    "                    found = True\n",
    "                    break\n",
    "        if not found:\n",
    "            print(\"False\")\n",
    "\n",
    "    except FileNotFoundError:\n",
    "        print(\"File not found\")\n",
    "        \n",
    "search_term = \"Python file handling is fun!\"\n",
    "search_file = search_in_file(my_file,search_term)\n",
    "        \n",
    "        \n",
    "        \n",
    "            \n",
    "    "
   ]
  },
  {
   "cell_type": "code",
   "execution_count": 38,
   "id": "7f8801cc-b448-405c-8faf-ac1576b5c197",
   "metadata": {},
   "outputs": [
    {
     "name": "stdout",
     "output_type": "stream",
     "text": [
      "Line deleted\n",
      "\n"
     ]
    }
   ],
   "source": [
    "def delete(my_file, lines_to_delete):\n",
    "    with open(\"myfile.txt\", \"r\") as file:\n",
    "        lines = file.readlines()\n",
    "    \n",
    "    with open(\"myfile.txt\", \"w\") as file:\n",
    "        for line in lines:\n",
    "            if line != line_to_delete:\n",
    "                file.write(line)\n",
    "    print(\"Line deleted\")\n",
    "\n",
    "lines_to_delete = \"This line is added later\"\n",
    "delete(my_file, lines_to_delete)\n",
    "read = read_file(my_file)\n"
   ]
  },
  {
   "cell_type": "code",
   "execution_count": null,
   "id": "d7ed8bc9-a7f9-4ccd-a6ed-179011feea5e",
   "metadata": {},
   "outputs": [],
   "source": []
  }
 ],
 "metadata": {
  "kernelspec": {
   "display_name": "Python 3 (ipykernel)",
   "language": "python",
   "name": "python3"
  },
  "language_info": {
   "codemirror_mode": {
    "name": "ipython",
    "version": 3
   },
   "file_extension": ".py",
   "mimetype": "text/x-python",
   "name": "python",
   "nbconvert_exporter": "python",
   "pygments_lexer": "ipython3",
   "version": "3.11.7"
  }
 },
 "nbformat": 4,
 "nbformat_minor": 5
}
