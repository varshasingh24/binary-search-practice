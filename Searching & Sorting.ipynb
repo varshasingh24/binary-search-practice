{
 "cells": [
  {
   "cell_type": "markdown",
   "id": "60f6d138-ab27-4922-a44e-2e55a14c1f18",
   "metadata": {},
   "source": [
    "# Binary Search"
   ]
  },
  {
   "cell_type": "code",
   "execution_count": 4,
   "id": "5ce44acb-1db4-45ea-9e0a-1313b7a803d6",
   "metadata": {},
   "outputs": [
    {
     "name": "stdin",
     "output_type": "stream",
     "text": [
      "Enter the elements in the array seperated by space:  3 4 5 6 7 7 8\n"
     ]
    },
    {
     "name": "stdout",
     "output_type": "stream",
     "text": [
      "Size of array is:  7\n"
     ]
    },
    {
     "name": "stdin",
     "output_type": "stream",
     "text": [
      "Enter the value you want to search from the array:  4\n"
     ]
    },
    {
     "name": "stdout",
     "output_type": "stream",
     "text": [
      "Element found on index no:  1\n"
     ]
    }
   ],
   "source": [
    "def binary_search(arr, target):   # function to search the element in an array\n",
    "    start = 0\n",
    "    end = len(arr)-1\n",
    "    while start <= end:\n",
    "        \n",
    "        mid = (start + end)//2    # Use to calculate mid\n",
    "        \n",
    "        if arr[mid] == target:\n",
    "            return mid\n",
    "\n",
    "    \n",
    "        elif target < arr[mid]:\n",
    "            end = mid - 1\n",
    "            \n",
    "        else:\n",
    "            start =  mid + 1\n",
    "            \n",
    "    return -1\n",
    "\n",
    "\n",
    "a = input(\"Enter the elements in the array seperated by space: \") # taking inpur from users\n",
    "\n",
    "arr = list(map(int, a.split())) # split the input values in list\n",
    "\n",
    "size = len(arr)\n",
    "\n",
    "print(\"Size of array is: \", size)\n",
    "\n",
    "target = int(input(\"Enter the value you want to search from the array: \"))\n",
    "\n",
    "index_of_target = binary_search(arr, target)\n",
    "\n",
    "if index_of_target == -1:\n",
    "    print(\"Element not found in array\")\n",
    "else:\n",
    "    print(\"Element found on index no: \", index_of_target)\n",
    "\n"
   ]
  },
  {
   "cell_type": "markdown",
   "id": "98581ae8-acf9-47da-a2d4-62244445e842",
   "metadata": {},
   "source": [
    "# Linear Search"
   ]
  },
  {
   "cell_type": "code",
   "execution_count": 11,
   "id": "4cc41a45-4f35-40e3-9fb8-418f2f97a922",
   "metadata": {},
   "outputs": [
    {
     "name": "stdin",
     "output_type": "stream",
     "text": [
      "Enter the values in array seperated by space:  3 1 7 2 9\n"
     ]
    },
    {
     "name": "stdout",
     "output_type": "stream",
     "text": [
      "Size of array is:  5\n"
     ]
    },
    {
     "name": "stdin",
     "output_type": "stream",
     "text": [
      "Enter the value you want to search in an array 9\n"
     ]
    },
    {
     "name": "stdout",
     "output_type": "stream",
     "text": [
      "Element is on index no:  4\n"
     ]
    }
   ],
   "source": [
    "def linear_search(arr, target):\n",
    "    start = 0\n",
    "    end = len(arr) - 1\n",
    "    \n",
    "    while start <= end:\n",
    "        if target == arr[start]:\n",
    "            return start\n",
    "            \n",
    "        else:\n",
    "            start = start + 1\n",
    "    return -1\n",
    "    \n",
    "\n",
    "\n",
    "a = input(\"Enter the values in array seperated by space: \")\n",
    "\n",
    "arr = list(map(int, a.split()))\n",
    "\n",
    "size = len(arr)\n",
    "\n",
    "print(\"Size of array is: \", size)\n",
    "\n",
    "target = int(input(\"Enter the value you want to search in an array\"))\n",
    "\n",
    "index_of_target = linear_search(arr, target)\n",
    "\n",
    "if index_of_target == -1:\n",
    "    print(\"Element not found in array\")\n",
    "else:\n",
    "    print(\"Element is on index no: \", index_of_target)\n",
    "    "
   ]
  },
  {
   "cell_type": "code",
   "execution_count": 14,
   "id": "c781b9a9-8809-4fc1-874b-021af402c0b7",
   "metadata": {},
   "outputs": [
    {
     "name": "stdin",
     "output_type": "stream",
     "text": [
      "Enter the value of array:  8 2 1 0 9\n"
     ]
    },
    {
     "name": "stdout",
     "output_type": "stream",
     "text": [
      "Original array: \n",
      "[8, 2, 1, 0, 9]\n",
      "Sorted array: \n",
      "0 1 2 8 9 \n"
     ]
    }
   ],
   "source": [
    "def selection_sort(arr):\n",
    "    size = len(arr)\n",
    "    \n",
    "    for i in range(size - 1):\n",
    "        min_index = i\n",
    "\n",
    "        for j in range(i+1, size):\n",
    "            if arr[j] < arr[min_index]:\n",
    "                min_index = j\n",
    "\n",
    "        if min_index != i:\n",
    "            arr[i], arr[min_index] = arr[min_index], arr[i]  # swap the element if element i\n",
    "            \n",
    "def print_array(arr):\n",
    "    for item in arr:\n",
    "        print(item, end= \" \")\n",
    "    print()\n",
    "\n",
    "a = input(\"Enter the value of array: \")\n",
    "\n",
    "arr = list(map(int, a.split()))\n",
    " \n",
    "print(\"Original array: \")\n",
    "print(arr)\n",
    "\n",
    "selection_sort(arr)\n",
    "\n",
    "print(\"Sorted array: \")\n",
    "\n",
    "print_array(arr)"
   ]
  },
  {
   "cell_type": "code",
   "execution_count": 2,
   "id": "b8b36fac-18ca-491a-bbd1-857a3f96c8f8",
   "metadata": {},
   "outputs": [
    {
     "name": "stdout",
     "output_type": "stream",
     "text": [
      "Element found at index:  3\n"
     ]
    }
   ],
   "source": [
    "def binary_search(arr,target):\n",
    "    start = 0\n",
    "    end = size-1\n",
    "    ans = -1\n",
    "    \n",
    "\n",
    "    while start <= end:\n",
    "        mid = (start+end)//2\n",
    "        \n",
    "        if target == arr[mid]:\n",
    "            ans = mid\n",
    "\n",
    "        elif target < arr[mid]:\n",
    "            return end == mid-1\n",
    "\n",
    "        else:\n",
    "            return start == mid+1\n",
    "\n",
    "    return -1\n",
    "\n",
    "        \n",
    "        \n",
    "        \n",
    "arr = [1,2,5,5,5,5,5,7]\n",
    "size = len(arr)\n",
    "target = 5\n",
    "index_target = binary_search(arr,target)\n",
    "if index_target == -1:\n",
    "    print(\"Element not found\")\n",
    "else:\n",
    "    print(\"Element found at index: \", index_target)\n",
    "\n",
    "\n",
    "\n",
    "\n",
    "\n",
    "\n"
   ]
  },
  {
   "cell_type": "code",
   "execution_count": null,
   "id": "33cc61fa-0fbb-431a-b493-24924cc15cf5",
   "metadata": {},
   "outputs": [],
   "source": []
  }
 ],
 "metadata": {
  "kernelspec": {
   "display_name": "Python 3 (ipykernel)",
   "language": "python",
   "name": "python3"
  },
  "language_info": {
   "codemirror_mode": {
    "name": "ipython",
    "version": 3
   },
   "file_extension": ".py",
   "mimetype": "text/x-python",
   "name": "python",
   "nbconvert_exporter": "python",
   "pygments_lexer": "ipython3",
   "version": "3.11.7"
  }
 },
 "nbformat": 4,
 "nbformat_minor": 5
}
